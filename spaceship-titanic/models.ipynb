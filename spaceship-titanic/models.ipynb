{
 "cells": [
  {
   "cell_type": "markdown",
   "id": "352741ca",
   "metadata": {},
   "source": [
    "# Modelos para treinamento\n",
    "\n",
    "Esse notebook foi dedicado exclusivamente para treinar modelos com os dados já pré-processados (ver notebook EDA.ipynb). Vou utilizar 3 modelos para esse problema de classificação binária: *Random Forest*, *LightGBM* e *XGBoost*, e vou tentar entender um pouco os parâmetros de cada um e avaliar a eficácia dos modelos.\n",
    "\n",
    "## *Random Forest Classifier*\n",
    "\n",
    "O primeiro modelo que vou utilizar aqui é baseado em várias árvores de decisões (por isso o nome *forest*). Cada árvore avalia uma parcela dos dados (*bootstrap*), usando apenas uma parcela das *features* para as perguntas e respostas. Então cada árvore usa uma parte diferente dos dados, e uma parte diferente das *features*. Cada pergunta tem como o objetivo separar o conjunto de dados e torná-lo o mais homogêneo possível (Para esse *dataset* separar entre `Transported = True` e `Transported = False`). Por exemplo, durante a *Exploratory Data Analysis* (EDA) foi evidenciado que cerca de 86% das pessoas NÃO transportadas NÃO estavam em sono criogênico, enquanto que apenas 42% das pessoas transportadas NÃO estavam em sono criogênico. Essa diferença indica que `CryoSleep` pode ser uma boa *feature* para separar o conjunto de dados. O modelo em si consegue procurar correlações mais complexas entre as *features*, e por votação majoritária entre as árvores prevê a classificação de cada passageiro. "
   ]
  },
  {
   "cell_type": "code",
   "execution_count": 1,
   "id": "253e8f67",
   "metadata": {},
   "outputs": [],
   "source": [
    "import pandas as pd\n",
    "from sklearn.model_selection import train_test_split\n",
    "from sklearn.ensemble import RandomForestClassifier\n",
    "from sklearn.metrics import accuracy_score, classification_report, confusion_matrix\n",
    "from sklearn.model_selection import RandomizedSearchCV\n",
    "from scipy.stats import randint, uniform\n",
    "import lightgbm as lgb\n",
    "import xgboost as xgb\n",
    "import matplotlib.pyplot as plt\n",
    "import seaborn as sns"
   ]
  },
  {
   "cell_type": "markdown",
   "id": "256ad9b9",
   "metadata": {},
   "source": [
    "## Carregando os dados\n",
    "\n",
    "Os dados processados são salvos em arquivos .csv no notebook EDA.ipynb. Lá é possível escolher quais *features* serão usadas no modelo, além de uma análise de distribuição e correlação com a variável alvo. "
   ]
  },
  {
   "cell_type": "code",
   "execution_count": 19,
   "id": "ac9a008e",
   "metadata": {},
   "outputs": [],
   "source": [
    "proc_train = pd.read_csv('train_processed.csv')\n",
    "proc_test = pd.read_csv('test_processed.csv')\n",
    "\n",
    "Y_train = proc_train['Transported'].copy()\n",
    "proc_train = proc_train.drop('Transported', axis=1)"
   ]
  },
  {
   "cell_type": "markdown",
   "id": "f0c8d793",
   "metadata": {},
   "source": [
    "## Separando os dados\n",
    "\n",
    "Afim de avaliar a acurácia de cada modelo é feita uma separação dos dados em uma proporção 80/20, 80% dos dados são usados para treinar o modelo e 20% para avaliar sua performance. Lembrando que essa amostra de 20% é retirada da amostra de treino, sem usar a amostra de teste da competição."
   ]
  },
  {
   "cell_type": "code",
   "execution_count": 4,
   "id": "d7e814e4",
   "metadata": {},
   "outputs": [],
   "source": [
    "X_train_split, X_test_split, Y_train_split, Y_test_split = train_test_split(\n",
    "    proc_train,\n",
    "    Y_train,\n",
    "    test_size=.2,\n",
    "    stratify=Y_train,\n",
    "    random_state=11\n",
    ")"
   ]
  },
  {
   "cell_type": "markdown",
   "id": "afa603fe",
   "metadata": {},
   "source": [
    "Cada modelo de ML possui hiperparâmetros que definem sua maneira de operação. No caso do *Random Forest Classifier* existem hiperparâmetros como: O número de árvores, a profundidade que cada árvore pode chegar (ou seja, limita quantas perguntas cada árvore faz), o máximo de *features* que um nó considera, o número mínimo da parcela da amostra que cada árvore considera, a função matemática que avalia a qualidade de separação dos dados para cada pergunta (critério que avalia se a *feature* foi boa em fornecer informação para o modelo ou não), entre outras que não mencionei aqui.\n",
    "\n",
    "Podemos notar que eexistem muitos hiperparâmetros que influciam na eficácia do modelo, mas existem métodos capazes de determinar a melhor combinação (ou uma das melhores combinações) de hiperparâmetros baseado na eficácia do modelo, para que não fique na base da tentativa e erro. Aqui eu uso o *Randomized Search Cross Validation* para determinar um bom conjunto de hiperparâmetros para o modelo. Nesse método você fornece valores possíveis para cada hiperparâmetro (ou um intervalo possível para a escolha), e em cada iteração é treinado um modelo com uma combinação desses hiperparâmetros. Para diminuir o custo computacional esse algoritmo testa um número pré definido da combinações desses hiperparâmetros (se fosse testar todas demoraria muito). A avaliação do desempenho do modelo é feito através da validação cruzada (*Cross Validation*), onde o algoritimo divide os dados de treinamente em X subgrupos (X é pré determinado também), treino o modelo com X-1 grupos e avalia com o grupo que ficou de fora. Esse processo é repetido, trocando o grupo que ficou de fora do treinamento por outro, até que todos passem pelo papel de ser usado pela avaliação. No final, a métrica usada pelo desempenho é dado pela média de todos os treinamentos."
   ]
  },
  {
   "cell_type": "code",
   "execution_count": 5,
   "id": "7820abd0",
   "metadata": {},
   "outputs": [
    {
     "name": "stdout",
     "output_type": "stream",
     "text": [
      "Iniciando RandomizedSearch com 25 iterações e CV=5...\n",
      "Fitting 5 folds for each of 25 candidates, totalling 125 fits\n",
      "Busca concluída.\n",
      "\n",
      "Melhores Hiperparâmetros encontrados:\n",
      "{'criterion': 'gini', 'max_depth': 10, 'max_features': 'sqrt', 'min_samples_leaf': 3, 'min_samples_split': 15, 'n_estimators': 666}\n"
     ]
    }
   ],
   "source": [
    "rf_model = RandomForestClassifier(random_state=19, n_jobs=-1)\n",
    "param_distributions = {\n",
    "    'n_estimators': randint(100, 1000), # Número de árvores entre 100 e 999\n",
    "    'max_depth': [10, 15, 20, 25, 30, None], # Profundidades para testar (None = sem limite)\n",
    "    'min_samples_split': [5, 10, 15, 20], # Mínimo para dividir nó\n",
    "    'min_samples_leaf': [3, 5, 7, 10],    # Mínimo por folha\n",
    "    'max_features': ['sqrt'], # Features por split ('sqrt' é o default)\n",
    "    'criterion': ['gini', 'entropy'],      # Critério de divisão\n",
    "}\n",
    "# 'max_features': ['sqrt', 'log2', 0.5]\n",
    "\n",
    "n_iterations = 25\n",
    "cv_folds=5\n",
    "\n",
    "random_search = RandomizedSearchCV(\n",
    "    estimator=rf_model,\n",
    "    param_distributions=param_distributions,\n",
    "    n_iter=n_iterations,\n",
    "    cv=cv_folds,\n",
    "    scoring='accuracy', \n",
    "    verbose=2, # Mostra mais detalhes do progresso\n",
    "    random_state=20, # Para reprodutibilidade da busca\n",
    "    n_jobs=-1 \n",
    ")\n",
    "\n",
    "print(f\"Iniciando RandomizedSearch com {n_iterations} iterações e CV={cv_folds}...\")\n",
    "random_search.fit(X_train_split, Y_train_split)\n",
    "print(\"Busca concluída.\")\n",
    "\n",
    "print(\"\\nMelhores Hiperparâmetros encontrados:\")\n",
    "print(random_search.best_params_)\n",
    "\n",
    "best_rf_model = random_search.best_estimator_"
   ]
  },
  {
   "cell_type": "code",
   "execution_count": 6,
   "id": "7386c41e",
   "metadata": {},
   "outputs": [
    {
     "name": "stdout",
     "output_type": "stream",
     "text": [
      "A amostra usada para previsão do modelo possui 1739 dados\n"
     ]
    },
    {
     "data": {
      "image/png": "[encoded data removed]",
      "text/plain": [
       "<Figure size 432x288 with 2 Axes>"
      ]
     },
     "metadata": {
      "needs_background": "light"
     },
     "output_type": "display_data"
    }
   ],
   "source": [
    "y_pred_split = best_rf_model.predict(X_test_split)\n",
    "class_labels = ['Não transportados (0)', 'Transportados (1)']\n",
    "print(f'A amostra usada para previsão do modelo possui {y_pred_split.shape[0]} dados')\n",
    "\n",
    "cm = confusion_matrix(Y_test_split, y_pred_split)\n",
    "sns.heatmap(cm, annot=True, fmt='d', cmap='Blues',\n",
    "            xticklabels=class_labels, yticklabels=class_labels)\n",
    "\n",
    "plt.xlabel('Valor Previsto pelo Modelo')\n",
    "plt.ylabel('Valor Verdadeiro')\n",
    "plt.title('Matriz de Confusão')\n",
    "plt.show()"
   ]
  },
  {
   "cell_type": "markdown",
   "id": "0c532dad",
   "metadata": {},
   "source": [
    "A matriz acima possui 4 informações: Quantos passageiros o modelo falou que NÃO foram transportados e realmente NÃO foram (666 Verdadeiros negativos), quantos passageiros o modelo falou que foram transportados e realmente foram (717 verdadeiros positivos), quantos passageiros o modelo falou que foram transportadas mas na verdade não foram (197 falsos positivos) e quantas pessoas o modelo falou que não foram transportadas mas na verdade foram (159 falsos negativos)."
   ]
  },
  {
   "cell_type": "code",
   "execution_count": 7,
   "id": "7ef75b93",
   "metadata": {},
   "outputs": [
    {
     "name": "stdout",
     "output_type": "stream",
     "text": [
      "\n",
      "Relatório de Classificação:\n",
      "                       precision    recall  f1-score   support\n",
      "\n",
      "Não transportados (0)       0.81      0.77      0.79       863\n",
      "    Transportados (1)       0.78      0.82      0.80       876\n",
      "\n",
      "             accuracy                           0.80      1739\n",
      "            macro avg       0.80      0.80      0.80      1739\n",
      "         weighted avg       0.80      0.80      0.80      1739\n",
      "\n"
     ]
    }
   ],
   "source": [
    "report = classification_report(Y_test_split, y_pred_split, target_names=class_labels)\n",
    "print(\"\\nRelatório de Classificação:\")\n",
    "print(report)"
   ]
  },
  {
   "cell_type": "markdown",
   "id": "7e099fed",
   "metadata": {},
   "source": [
    " O modelo performou bem, atingindo acurácia de ~80%, com F1-scores equilibrados de 0.79 para 'Não Transportado' e 0.80 para 'Transportado', indicando boa capacidade de predição para ambos os grupos, com uma leve vantagem no recall para identificar passageiros transportados."
   ]
  },
  {
   "cell_type": "markdown",
   "id": "17d10079",
   "metadata": {},
   "source": [
    "## Importância das *features*\n",
    "\n",
    "Aqui vou colocar uma classificação da importância das *features*, ou seja, quais *features* o modelo julgou mais eficaz em prever a classificação."
   ]
  },
  {
   "cell_type": "code",
   "execution_count": 8,
   "id": "c37b6f9c",
   "metadata": {},
   "outputs": [
    {
     "name": "stdout",
     "output_type": "stream",
     "text": [
      "Importância das Features (ordenada):\n",
      "TotalSpending                0.172705\n",
      "ZeroSpending                 0.123070\n",
      "Spa                          0.102592\n",
      "FoodCourt                    0.098304\n",
      "CryoSleep                    0.091691\n",
      "VRDeck                       0.081645\n",
      "RoomService                  0.081191\n",
      "ShoppingMall                 0.069124\n",
      "Age                          0.058730\n",
      "HomePlanet_Earth             0.042306\n",
      "HomePlanet_Europa            0.027574\n",
      "GroupSize                    0.021533\n",
      "HomePlanet_Mars              0.011932\n",
      "Destination_55 Cancri e      0.007332\n",
      "Destination_TRAPPIST-1e      0.005844\n",
      "Destination_PSO J318.5-22    0.004429\n",
      "dtype: float64\n"
     ]
    },
    {
     "data": {
      "image/png": "[encoded data removed]",
      "text/plain": [
       "<Figure size 720x576 with 1 Axes>"
      ]
     },
     "metadata": {
      "needs_background": "light"
     },
     "output_type": "display_data"
    }
   ],
   "source": [
    "# Obtém as importâncias\n",
    "importances = best_rf_model.feature_importances_\n",
    "\n",
    "# Obtém os nomes das features na ordem correta\n",
    "feature_names = X_train_split.columns\n",
    "\n",
    "# Cria uma Série para combinar nomes e importâncias\n",
    "feature_importance_series = pd.Series(importances, index=feature_names)\n",
    "\n",
    "# Ordena as features pela importância (da maior para a menor)\n",
    "sorted_feature_importances = feature_importance_series.sort_values(ascending=False)\n",
    "\n",
    "# Imprime a lista ordenada\n",
    "print(\"Importância das Features (ordenada):\")\n",
    "print(sorted_feature_importances)\n",
    "\n",
    "# Visualiza as N features mais importantes\n",
    "plt.figure(figsize=(10, 8)) \n",
    "\n",
    "# Define quantas features top você quer mostrar\n",
    "top_n = 20\n",
    "\n",
    "sns.barplot(x=sorted_feature_importances.head(top_n).values,\n",
    "            y=sorted_feature_importances.head(top_n).index)\n",
    "\n",
    "plt.title(f'Top {top_n} Features Mais Importantes (Random Forest)')\n",
    "plt.xlabel('Importância Relativa')\n",
    "plt.ylabel('Feature')\n",
    "plt.show()"
   ]
  },
  {
   "cell_type": "markdown",
   "id": "59870ceb",
   "metadata": {},
   "source": [
    "Esse passo é importante para verificar a importância das *features* existentes e criadas durante a EDA. O treinamento de um modelo de *machine learning* é um processo recursivo com o objetivo de maximizar sua eficiência. O resultado obtido sempre pode gerar *insights* sobre os dados, que são levados novamente à EDA para melhorar o pré-processamento e aumentar a acurácia do modelo. Os notebooks aqui estão totalmente adaptados à mudanças, e o desempenho obtido é verificado aqui. Durante o processo voltei diversas vezes ao notebook da EDA, desconsiderei e considerei diversas *features*, tive *insights* para criar novas e fui aprendendo mais sobre os dados. Esse projeto pode ficar indefinidamente aberto devido ao grande número de possibilidades. Vou finalizar por enquanto treinando modelos diferentes com esse mesmo conjunto de dados, mas lembrando que sempre podemos melhorar."
   ]
  },
  {
   "cell_type": "markdown",
   "id": "1238c132",
   "metadata": {},
   "source": [
    "## *Light Gradient Boost Model*"
   ]
  },
  {
   "cell_type": "code",
   "execution_count": 9,
   "id": "ecd535e4",
   "metadata": {},
   "outputs": [
    {
     "name": "stdout",
     "output_type": "stream",
     "text": [
      "Iniciando RandomizedSearch para LGBM (50 iterações, CV=5)...\n",
      "Fitting 5 folds for each of 50 candidates, totalling 250 fits\n",
      "[LightGBM] [Warning] Found whitespace in feature_names, replace with underlines\n",
      "[LightGBM] [Info] Number of positive: 3502, number of negative: 3452\n",
      "[LightGBM] [Info] Auto-choosing row-wise multi-threading, the overhead of testing was 0.000904 seconds.\n",
      "You can set `force_row_wise=true` to remove the overhead.\n",
      "And if memory is not enough, you can set `force_col_wise=true`.\n",
      "[LightGBM] [Info] Total Bins 1634\n",
      "[LightGBM] [Info] Number of data points in the train set: 6954, number of used features: 16\n",
      "[LightGBM] [Info] [binary:BoostFromScore]: pavg=0.503595 -> initscore=0.014380\n",
      "[LightGBM] [Info] Start training from score 0.014380\n",
      "Busca concluída.\n",
      "\n",
      "Melhores Hiperparâmetros encontrados para LGBM:\n",
      "{'colsample_bytree': 1.0, 'learning_rate': 0.01165663513708072, 'max_depth': 15, 'min_child_samples': 23, 'n_estimators': 692, 'num_leaves': 27, 'reg_alpha': 0.1, 'reg_lambda': 0.1, 'subsample': 0.7}\n",
      "\n",
      "Melhor score de Acurácia LGBM (cross-validated): 0.7921\n",
      "Acurácia LGBM (Validação): 0.7941\n"
     ]
    }
   ],
   "source": [
    "lgbm_base = lgb.LGBMClassifier(random_state=42, n_jobs=-1)\n",
    "\n",
    "param_distributions_lgbm = {\n",
    "    'n_estimators': randint(100, 1200),\n",
    "    'learning_rate': uniform(0.01, 0.3), # Distribuição uniforme para taxa de aprendizado\n",
    "    'num_leaves': randint(20, 60), # Principal parâmetro de complexidade no LGBM\n",
    "    'max_depth': [-1, 10, 15, 20], # -1 significa sem limite (num_leaves controla mais)\n",
    "    'min_child_samples': randint(5, 30), # Similar a min_samples_leaf\n",
    "    'subsample': [0.7, 0.8, 0.9, 1.0], # Fração de amostras por árvore\n",
    "    'colsample_bytree': [0.7, 0.8, 0.9, 1.0], # Fração de features por árvore\n",
    "    'reg_alpha': [0, 0.01, 0.1, 0.5, 1], # Regularização L1\n",
    "    'reg_lambda': [0, 0.01, 0.1, 0.5, 1] # Regularização L2\n",
    "}\n",
    "\n",
    "n_iterations_lgbm = 50\n",
    "cv_folds_lgbm = 5\n",
    "\n",
    "random_search_lgbm = RandomizedSearchCV(\n",
    "    estimator=lgbm_base,\n",
    "    param_distributions=param_distributions_lgbm,\n",
    "    n_iter=n_iterations_lgbm,\n",
    "    cv=cv_folds_lgbm,\n",
    "    scoring='accuracy',\n",
    "    verbose=1,\n",
    "    random_state=42,\n",
    "    n_jobs=-1\n",
    ")\n",
    "\n",
    "print(f\"Iniciando RandomizedSearch para LGBM ({n_iterations_lgbm} iterações, CV={cv_folds_lgbm})...\")\n",
    "random_search_lgbm.fit(X_train_split, Y_train_split)\n",
    "print(\"Busca concluída.\")\n",
    "\n",
    "print(\"\\nMelhores Hiperparâmetros encontrados para LGBM:\")\n",
    "print(random_search_lgbm.best_params_)\n",
    "\n",
    "print(f\"\\nMelhor score de Acurácia LGBM (cross-validated): {random_search_lgbm.best_score_:.4f}\")\n",
    "\n",
    "best_lgbm_model = random_search_lgbm.best_estimator_\n",
    "\n",
    "\n",
    "y_pred_lgbm_best = best_lgbm_model.predict(X_test_split)\n",
    "\n",
    "accuracy_lgbm_best = accuracy_score(Y_test_split, y_pred_lgbm_best)\n",
    "print(f\"Acurácia LGBM (Validação): {accuracy_lgbm_best:.4f}\")"
   ]
  },
  {
   "cell_type": "markdown",
   "id": "8bab2612",
   "metadata": {},
   "source": [
    "## Avaliação do modelo"
   ]
  },
  {
   "cell_type": "code",
   "execution_count": 11,
   "id": "c2b96bac",
   "metadata": {},
   "outputs": [
    {
     "name": "stdout",
     "output_type": "stream",
     "text": [
      "                       precision    recall  f1-score   support\n",
      "\n",
      "Não transportados (0)       0.81      0.76      0.79       863\n",
      "    Transportados (1)       0.78      0.83      0.80       876\n",
      "\n",
      "             accuracy                           0.79      1739\n",
      "            macro avg       0.80      0.79      0.79      1739\n",
      "         weighted avg       0.80      0.79      0.79      1739\n",
      "\n"
     ]
    }
   ],
   "source": [
    "y_pred_lgbm_best = best_lgbm_model.predict(X_test_split)\n",
    "print(classification_report(Y_test_split, y_pred_lgbm_best, target_names=class_labels))"
   ]
  },
  {
   "cell_type": "code",
   "execution_count": 12,
   "id": "fd36fe37",
   "metadata": {},
   "outputs": [
    {
     "data": {
      "image/png": "[encoded data removed]",
      "text/plain": [
       "<Figure size 504x360 with 2 Axes>"
      ]
     },
     "metadata": {
      "needs_background": "light"
     },
     "output_type": "display_data"
    }
   ],
   "source": [
    "cm_lgbm_best = confusion_matrix(Y_test_split, y_pred_lgbm_best)\n",
    "\n",
    "plt.figure(figsize=(7, 5))\n",
    "sns.heatmap(cm_lgbm_best, annot=True, fmt='d', cmap='Blues',\n",
    "            xticklabels=class_labels, yticklabels=class_labels)\n",
    "plt.xlabel('Previsto')\n",
    "plt.ylabel('Verdadeiro')\n",
    "plt.title('Matriz de Confusão LGBM')\n",
    "plt.show()"
   ]
  },
  {
   "cell_type": "markdown",
   "id": "e1071b7f",
   "metadata": {},
   "source": [
    "## *eXtreme Gradient Boost (XGB) model*"
   ]
  },
  {
   "cell_type": "code",
   "execution_count": 13,
   "id": "a5c852a9",
   "metadata": {},
   "outputs": [
    {
     "name": "stdout",
     "output_type": "stream",
     "text": [
      "Iniciando RandomizedSearch para XGBoost (50 iterações, CV=5)...\n",
      "Fitting 5 folds for each of 50 candidates, totalling 250 fits\n"
     ]
    },
    {
     "name": "stderr",
     "output_type": "stream",
     "text": [
      "c:\\Users\\Mauricio\\anaconda3\\lib\\site-packages\\xgboost\\core.py:158: UserWarning: [17:19:14] WARNING: C:\\buildkite-agent\\builds\\buildkite-windows-cpu-autoscaling-group-i-06abd128ca6c1688d-1\\xgboost\\xgboost-ci-windows\\src\\learner.cc:740: \n",
      "Parameters: { \"use_label_encoder\" } are not used.\n",
      "\n",
      "  warnings.warn(smsg, UserWarning)\n"
     ]
    },
    {
     "name": "stdout",
     "output_type": "stream",
     "text": [
      "Busca concluída.\n",
      "\n",
      "Melhores Hiperparâmetros encontrados para XGBoost:\n",
      "{'colsample_bytree': 0.9, 'gamma': 0.3497561053835969, 'learning_rate': 0.05012239680116239, 'max_depth': 4, 'min_child_weight': 3, 'n_estimators': 756, 'reg_alpha': 1, 'reg_lambda': 2, 'subsample': 1.0}\n",
      "\n",
      "Melhor score de Acurácia XGBoost (cross-validated): 0.7928\n"
     ]
    }
   ],
   "source": [
    "xgb_base = xgb.XGBClassifier(random_state=42, use_label_encoder=False, eval_metric='logloss', n_jobs=-1)\n",
    "\n",
    "param_distributions_xgb = {\n",
    "    'n_estimators': randint(100, 1200),\n",
    "    'learning_rate': uniform(0.01, 0.3 - 0.01),\n",
    "    'max_depth': randint(3, 15), # XGBoost geralmente usa árvores mais rasas que RF\n",
    "    'min_child_weight': randint(1, 10), # Ajuda a controlar overfitting\n",
    "    'gamma': uniform(0, 0.5), # Regularização na perda para fazer split\n",
    "    'subsample': [0.7, 0.8, 0.9, 1.0],\n",
    "    'colsample_bytree': [0.7, 0.8, 0.9, 1.0],\n",
    "    'reg_alpha': [0, 0.01, 0.1, 1], # L1\n",
    "    'reg_lambda': [0.5, 1, 2, 5, 10] # L2 (valores maiores são comuns)\n",
    "}\n",
    "\n",
    "n_iterations_xgb = 50\n",
    "cv_folds_xgb = 5\n",
    "\n",
    "random_search_xgb = RandomizedSearchCV(\n",
    "    estimator=xgb_base,\n",
    "    param_distributions=param_distributions_xgb,\n",
    "    n_iter=n_iterations_xgb,\n",
    "    cv=cv_folds_xgb,\n",
    "    scoring='accuracy',\n",
    "    verbose=1,\n",
    "    random_state=42,\n",
    "    n_jobs=-1\n",
    ")\n",
    "\n",
    "print(f\"Iniciando RandomizedSearch para XGBoost ({n_iterations_xgb} iterações, CV={cv_folds_xgb})...\")\n",
    "random_search_xgb.fit(X_train_split, Y_train_split)\n",
    "print(\"Busca concluída.\")\n",
    "\n",
    "print(\"\\nMelhores Hiperparâmetros encontrados para XGBoost:\")\n",
    "print(random_search_xgb.best_params_)\n",
    "\n",
    "print(f\"\\nMelhor score de Acurácia XGBoost (cross-validated): {random_search_xgb.best_score_:.4f}\")\n",
    "\n",
    "best_xgb_model = random_search_xgb.best_estimator_"
   ]
  },
  {
   "cell_type": "markdown",
   "id": "64f82b31",
   "metadata": {},
   "source": [
    "## Avaliação do modelo"
   ]
  },
  {
   "cell_type": "code",
   "execution_count": 14,
   "id": "7fe6822f",
   "metadata": {},
   "outputs": [
    {
     "name": "stdout",
     "output_type": "stream",
     "text": [
      "                       precision    recall  f1-score   support\n",
      "\n",
      "Não transportados (0)       0.82      0.75      0.78       863\n",
      "    Transportados (1)       0.77      0.83      0.80       876\n",
      "\n",
      "             accuracy                           0.79      1739\n",
      "            macro avg       0.80      0.79      0.79      1739\n",
      "         weighted avg       0.80      0.79      0.79      1739\n",
      "\n"
     ]
    }
   ],
   "source": [
    "y_pred_xgb_best = best_xgb_model.predict(X_test_split)\n",
    "\n",
    "print(classification_report(Y_test_split, y_pred_xgb_best, target_names=class_labels))"
   ]
  },
  {
   "cell_type": "code",
   "execution_count": 15,
   "id": "8481edf0",
   "metadata": {},
   "outputs": [
    {
     "data": {
      "image/png": "[encoded data removed]",
      "text/plain": [
       "<Figure size 504x360 with 2 Axes>"
      ]
     },
     "metadata": {
      "needs_background": "light"
     },
     "output_type": "display_data"
    }
   ],
   "source": [
    "cm_xgb_best = confusion_matrix(Y_test_split, y_pred_xgb_best)\n",
    "\n",
    "plt.figure(figsize=(7, 5))\n",
    "sns.heatmap(cm_xgb_best, annot=True, fmt='d', cmap='Blues',\n",
    "            xticklabels=class_labels, yticklabels=class_labels)\n",
    "plt.xlabel('Previsto')\n",
    "plt.ylabel('Verdadeiro')\n",
    "plt.title('Matriz de Confusão - Melhor XGBoost')\n",
    "plt.show()"
   ]
  },
  {
   "cell_type": "markdown",
   "id": "9f95f1a1",
   "metadata": {},
   "source": [
    "## Salvando os arquivos para submissão\n",
    "\n",
    "Aqui vou salvar os 3 arquivos para submissão do Kaggle, onde os modelos foram usados para prever os resultados dos dados de teste."
   ]
  },
  {
   "cell_type": "code",
   "execution_count": 22,
   "id": "90693c9c",
   "metadata": {},
   "outputs": [],
   "source": [
    "proc_test2 = proc_test.copy()\n",
    "predics = best_rf_model.predict(proc_test2.drop('PassengerId', axis=1))\n",
    "\n",
    "predics_bool = predics.astype(bool)\n",
    "\n",
    "submission_df = pd.DataFrame({\n",
    "    'PassengerId': proc_test['PassengerId'],\n",
    "    'Transported': predics_bool\n",
    "})\n",
    "\n",
    "submission_df.to_csv('submission_rf2025.csv', index=False)"
   ]
  },
  {
   "cell_type": "code",
   "execution_count": null,
   "id": "948a00bb",
   "metadata": {},
   "outputs": [],
   "source": [
    "predics = best_lgbm_model.predict(proc_test2.drop('PassengerId', axis=1))\n",
    "\n",
    "predics_bool = predics.astype(bool)\n",
    "\n",
    "submission_df = pd.DataFrame({\n",
    "    'PassengerId': proc_test['PassengerId'],\n",
    "    'Transported': predics_bool\n",
    "})\n",
    "\n",
    "submission_df.to_csv('submission_lgbm2025.csv', index=False)"
   ]
  },
  {
   "cell_type": "code",
   "execution_count": 24,
   "id": "f4efeb5a",
   "metadata": {},
   "outputs": [],
   "source": [
    "predics = best_xgb_model.predict(proc_test2.drop('PassengerId', axis=1))\n",
    "\n",
    "predics_bool = predics.astype(bool)\n",
    "\n",
    "submission_df = pd.DataFrame({\n",
    "    'PassengerId': proc_test['PassengerId'],\n",
    "    'Transported': predics_bool\n",
    "})\n",
    "\n",
    "submission_df.to_csv('submission_xgb2025.csv', index=False)"
   ]
  }
 ],
 "metadata": {
  "kernelspec": {
   "display_name": "base",
   "language": "python",
   "name": "python3"
  },
  "language_info": {
   "codemirror_mode": {
    "name": "ipython",
    "version": 3
   },
   "file_extension": ".py",
   "mimetype": "text/x-python",
   "name": "python",
   "nbconvert_exporter": "python",
   "pygments_lexer": "ipython3",
   "version": "3.9.12"
  }
 },
 "nbformat": 4,
 "nbformat_minor": 5
}
