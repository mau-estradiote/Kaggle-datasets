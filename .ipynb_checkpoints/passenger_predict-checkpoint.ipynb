{
 "cells": [
  {
   "cell_type": "markdown",
   "id": "6169144a",
   "metadata": {},
   "source": [
    "# Little Report\n",
    "\n",
    "After learning a lot about feature engineering and data preprocessing, I finally made a model using **logistic regression** that predict **78.676%** of the values at my first try! this starting last night, and finishing today, so less than 2 days. I tried to use **Random Forest** but the results were worst (**78.255%**). Finally, I implemented a **Grid Search Cross Validation** for random forest and got my best result: **79.471%**!\n",
    "This method fit models with different parameters, and make a cross validation between than to choose the best model (something like that). \n",
    "\n",
    "The leaderboard's first got **85.270%**"
   ]
  },
  {
   "cell_type": "code",
   "execution_count": 114,
   "id": "7b4e1913",
   "metadata": {},
   "outputs": [],
   "source": [
    "import numpy as np\n",
    "import pandas as pd\n",
    "import matplotlib.pyplot as plt\n",
    "\n",
    "from sklearn.linear_model import LogisticRegression\n",
    "from sklearn.compose import ColumnTransformer\n",
    "from sklearn.impute import SimpleImputer\n",
    "from sklearn.preprocessing import OneHotEncoder, StandardScaler\n",
    "from sklearn.pipeline import Pipeline\n",
    "from sklearn.base import BaseEstimator, TransformerMixin\n",
    "from sklearn.preprocessing import FunctionTransformer\n",
    "from sklearn.ensemble import RandomForestClassifier\n",
    "from sklearn.model_selection import GridSearchCV\n",
    "from xgboost import XGBClassifier"
   ]
  },
  {
   "cell_type": "code",
   "execution_count": 113,
   "id": "e469e0b4",
   "metadata": {},
   "outputs": [
    {
     "name": "stdout",
     "output_type": "stream",
     "text": [
      "Collecting xgboost\n",
      "  Downloading xgboost-2.1.0-py3-none-win_amd64.whl (124.9 MB)\n",
      "Requirement already satisfied: numpy in c:\\users\\mauricio\\anaconda3\\lib\\site-packages (from xgboost) (1.21.5)\n",
      "Requirement already satisfied: scipy in c:\\users\\mauricio\\anaconda3\\lib\\site-packages (from xgboost) (1.7.3)\n",
      "Installing collected packages: xgboost\n",
      "Successfully installed xgboost-2.1.0\n"
     ]
    }
   ],
   "source": [
    "!pip install xgboost"
   ]
  },
  {
   "cell_type": "markdown",
   "id": "f54d3d95",
   "metadata": {},
   "source": [
    "## Load the data"
   ]
  },
  {
   "cell_type": "code",
   "execution_count": 91,
   "id": "f8803de8",
   "metadata": {},
   "outputs": [],
   "source": [
    "train = pd.read_csv('train.csv')\n",
    "test = pd.read_csv('test.csv')"
   ]
  },
  {
   "cell_type": "code",
   "execution_count": 92,
   "id": "1e3049a4",
   "metadata": {},
   "outputs": [],
   "source": [
    "# IDs = train['PassengerId'].str.split('_', expand=True)\n",
    "# IDs.columns = ['gggg', 'pp']\n",
    "# IDs['pp'] = pd.to_numeric(IDs['pp'])\n",
    "# IDs['gggg'] = pd.to_numeric(IDs['gggg'])\n",
    "\n",
    "# train['last_name'] = train['Name'].dropna().apply(lambda x: x.split()[-1])\n",
    "# test['last_name'] = test['Name'].dropna().apply(lambda x: x.split()[-1])\n",
    "\n",
    "\n",
    "# train_filtered = train[train['Transported'].notna()]\n",
    "# relatives_count = train_filtered[train_filtered['Transported']].groupby('last_name').size().reset_index(name='Transported_relatives_count')\n",
    "\n",
    "# train = train.merge(relatives_count, on='last_name', how='left')\n",
    "# # train['Transported_relatives_count_x'] = train['Transported_relatives_count'].fillna(0).astype(int)\n",
    "# # train = train.drop(columns=['last_name'])\n",
    "\n",
    "# # g8 = train[IDs['pp'] == 8]\n",
    "# # g8_p = train[IDs['gggg'] == '4005']\n",
    "# # display(g8_p)\n",
    "# # display(g8)\n",
    "# print(len(train['last_name'].unique()))"
   ]
  },
  {
   "cell_type": "markdown",
   "id": "4881f44e",
   "metadata": {},
   "source": [
    "## Filter the columns and change booleans to integers"
   ]
  },
  {
   "cell_type": "code",
   "execution_count": 93,
   "id": "f575054a",
   "metadata": {},
   "outputs": [],
   "source": [
    "tr_ftrs = train.drop(columns=['PassengerId','Cabin','Name','Transported'])\n",
    "tr_targ = train['Transported']\n",
    "\n",
    "tr_ftrs[['CryoSleep', 'VIP']] = tr_ftrs[['CryoSleep', 'VIP']].applymap(lambda x: 1 if x is True else (0 if x is False else np.nan))"
   ]
  },
  {
   "cell_type": "markdown",
   "id": "2cae8cc7",
   "metadata": {},
   "source": [
    "## Pre processing the data\n",
    "\n",
    "I'll handle in a more basic way first, and see my results. If I have some decent result, I'll think about the correlation betweed passanger's groups.\n",
    "\n",
    "obs: My result is ok! So, let's improve!\n",
    "\n",
    "### Steps\n",
    "\n",
    "1. Deal with missing values (for all create a column with True for replaced value or False for already exist)\n",
    "    1.1 Replace missing categorical values with 'unknown' such as Home Planet missing values\n",
    "    1.2 Replace with the most frequent value for binary data, such as True of False for VIP people\n",
    "    1.3 Replace with the mean value for numerical data, and standarize the scale (didn't get this too standarize part too much)\n",
    "    \n",
    "2. Use a method for the categorical values, e.g. hot encoding"
   ]
  },
  {
   "cell_type": "code",
   "execution_count": 94,
   "id": "766a02d0",
   "metadata": {},
   "outputs": [],
   "source": [
    "class MissingIndicator(BaseEstimator, TransformerMixin):\n",
    "    def __init__(self, columns):\n",
    "        self.columns = columns\n",
    "\n",
    "    def fit(self, X, y=None):\n",
    "        # No fitting necessary, so we just return self\n",
    "        return self\n",
    "\n",
    "    def transform(self, X):\n",
    "        X = X.copy()\n",
    "        # Check if all specified columns are in the DataFrame\n",
    "        for col in self.columns:\n",
    "            if col not in X.columns:\n",
    "                raise ValueError(f\"Column {col} not found in DataFrame\")\n",
    "            \n",
    "            # Add the missing indicator column\n",
    "            X[f'{col}_missing'] = X[col].isna().astype(int)\n",
    "        \n",
    "        # Drop the original columns\n",
    "        X = X.drop(columns=self.columns)\n",
    "        \n",
    "        return X"
   ]
  },
  {
   "cell_type": "code",
   "execution_count": 95,
   "id": "bde52d76",
   "metadata": {},
   "outputs": [],
   "source": [
    "categorical_features = ['HomePlanet', 'Destination']\n",
    "binary_features = ['CryoSleep', 'VIP']\n",
    "numerical_features = ['Age', 'RoomService', 'FoodCourt', 'ShoppingMall', 'Spa', 'VRDeck']\n",
    "missing_features = categorical_features + binary_features + numerical_features\n",
    "\n",
    "\n",
    "\n",
    "# Define the preprocessor\n",
    "missing_indicator = MissingIndicator(columns=missing_features)\n",
    "\n",
    "categorical_pipeline = Pipeline(steps=[\n",
    "    ('imputer', SimpleImputer(strategy='constant', fill_value='Unknown')),\n",
    "    ('onehot', OneHotEncoder(handle_unknown='ignore', sparse=False))\n",
    "])\n",
    "\n",
    "binary_imputer = SimpleImputer(strategy='most_frequent')\n",
    "\n",
    "numerical_pipeline = Pipeline(steps=[\n",
    "    ('imputer', SimpleImputer(strategy='mean')),\n",
    "    ('scaler', StandardScaler())\n",
    "])\n",
    "\n",
    "# Define the combined preprocessor\n",
    "preprocessor = ColumnTransformer(\n",
    "    transformers=[\n",
    "        ('miss_ind', missing_indicator, missing_features),\n",
    "        ('categ', categorical_pipeline, categorical_features),\n",
    "        ('bin', binary_imputer, binary_features),\n",
    "        ('numerical', numerical_pipeline, numerical_features)\n",
    "    ],\n",
    ")\n",
    "\n",
    "preprocessor2 = ColumnTransformer(\n",
    "    transformers=[\n",
    "        ('miss_ind', missing_indicator, missing_features)\n",
    "    ],\n",
    ")"
   ]
  },
  {
   "cell_type": "markdown",
   "id": "7b0f341d",
   "metadata": {},
   "source": [
    "## Fit my model to the test data"
   ]
  },
  {
   "cell_type": "code",
   "execution_count": 108,
   "id": "076972ae",
   "metadata": {},
   "outputs": [],
   "source": [
    "# logreg = Pipeline(steps=[\n",
    "#     ('preprocessor', preprocessor),\n",
    "#     ('classifier', LogisticRegression(max_iter = 1000))\n",
    "# ])\n",
    "\n",
    "# logreg.fit(tr_ftrs,tr_targ)\n",
    "\n",
    "# y = logreg.predict(test)\n",
    "\n",
    "# # test2 = test.copy()\n",
    "# # test2['Transported_relatives_count'] = test2['last_name'].map(train.groupby('last_name')['Transported'].sum()).fillna(0)\n",
    "\n",
    "logreg_pipeline = Pipeline(steps=[\n",
    "    ('preprocessor', preprocessor),\n",
    "    ('classifier', LogisticRegression())\n",
    "])\n",
    "\n",
    "param_grid_logreg = { \n",
    "    'classifier__C': [0.001, 0.01, 0.1, 1, 10, 100, 1000],  # Regularization strength\n",
    "    'classifier__solver': ['liblinear'],   # Solvers\n",
    "    'classifier__penalty': ['l1', 'l2']  # Add regularization types\n",
    "}\n",
    "\n",
    "grid_search_logreg = GridSearchCV(estimator=logreg_pipeline, param_grid=param_grid_logreg, cv=5, n_jobs=-1)\n",
    "grid_search_logreg.fit(tr_ftrs, tr_targ)\n",
    "\n",
    "# Get the best estimator\n",
    "best_logreg = grid_search_logreg.best_estimator_\n",
    "\n",
    "# Predict on test data\n",
    "y_test_pred_logreg = best_logreg.predict(test)"
   ]
  },
  {
   "cell_type": "code",
   "execution_count": 79,
   "id": "0704cec2",
   "metadata": {},
   "outputs": [],
   "source": [
    "random_forest = Pipeline(steps=[\n",
    "    ('preprocessor', preprocessor),\n",
    "    ('classifier', RandomForestClassifier())\n",
    "])\n",
    "\n",
    "# Fit the random forest model\n",
    "random_forest.fit(tr_ftrs, tr_targ)\n",
    "\n",
    "# Predict using the random forest model\n",
    "y_rf = random_forest.predict(test)\n"
   ]
  },
  {
   "cell_type": "code",
   "execution_count": 97,
   "id": "7c5eb19c",
   "metadata": {},
   "outputs": [],
   "source": [
    "param_grid = { \n",
    "    'classifier__n_estimators': [200, 500],\n",
    "    'classifier__max_features': ['auto', 'sqrt', 'log2'],\n",
    "    'classifier__max_depth': [4, 5, 6, 7, 8],\n",
    "    'classifier__criterion': ['gini', 'entropy']\n",
    "}\n",
    "\n",
    "rfc = Pipeline(steps=[\n",
    "    ('preprocessor', preprocessor),\n",
    "    ('classifier', RandomForestClassifier())\n",
    "])\n",
    "\n",
    "grid_search = GridSearchCV(estimator=rfc, param_grid=param_grid, cv=5, n_jobs=-1)\n",
    "grid_search.fit(tr_ftrs, tr_targ)\n",
    "\n",
    "best_rf = grid_search.best_estimator_"
   ]
  },
  {
   "cell_type": "markdown",
   "id": "8c512e51",
   "metadata": {},
   "source": [
    "## xgboost model"
   ]
  },
  {
   "cell_type": "code",
   "execution_count": 120,
   "id": "987f8964",
   "metadata": {},
   "outputs": [],
   "source": [
    "xgb_pipeline = Pipeline(steps=[\n",
    "    ('preprocessor', preprocessor),\n",
    "    ('classifier', XGBClassifier(eval_metric='mlogloss'))\n",
    "])\n",
    "\n",
    "# Define the parameter grid for XGBoost\n",
    "param_grid_xgb = {\n",
    "    'classifier__n_estimators': [50,100, 200, 300, 400, 500],\n",
    "    'classifier__learning_rate': [0.01,0.05, 0.1, 0.2, 0.3],\n",
    "    'classifier__max_depth': [3, 5, 7,9]\n",
    "}\n",
    "\n",
    "# Perform Grid Search\n",
    "grid_search_xgb = GridSearchCV(\n",
    "    estimator=xgb_pipeline,\n",
    "    param_grid=param_grid_xgb,\n",
    "    cv=5,\n",
    "    n_jobs=-1\n",
    ")\n",
    "grid_search_xgb.fit(tr_ftrs, tr_targ)\n",
    "\n",
    "# Get the best estimator\n",
    "best_xgb = grid_search_xgb.best_estimator_\n",
    "\n",
    "y_xgboost_fit = best_xgb.predict(test)"
   ]
  },
  {
   "cell_type": "markdown",
   "id": "2627633f",
   "metadata": {},
   "source": [
    "## Save the output file (xgboost)"
   ]
  },
  {
   "cell_type": "code",
   "execution_count": 121,
   "id": "6393ed81",
   "metadata": {},
   "outputs": [],
   "source": [
    "passenger_ids = test['PassengerId']\n",
    "\n",
    "result_df = pd.DataFrame({\n",
    "    'PassengerId': passenger_ids,\n",
    "    'Transported': y_xgboost_fit.astype('bool')\n",
    "})\n",
    "\n",
    "\n",
    "result_df.to_csv('output_xgb_GridSearchCV2.csv', index=False)"
   ]
  },
  {
   "cell_type": "markdown",
   "id": "e060d3fa",
   "metadata": {},
   "source": [
    "## Save the output file (logistic regression)"
   ]
  },
  {
   "cell_type": "code",
   "execution_count": 111,
   "id": "8818e900",
   "metadata": {},
   "outputs": [],
   "source": [
    "passenger_ids = test['PassengerId']\n",
    "\n",
    "result_df = pd.DataFrame({\n",
    "    'PassengerId': passenger_ids,\n",
    "    'Transported': y_test_pred_logreg\n",
    "})\n",
    "\n",
    "result_df.to_csv('output_LogReg_GridSearchCV2.csv', index=False)"
   ]
  },
  {
   "cell_type": "markdown",
   "id": "dfb6285b",
   "metadata": {},
   "source": [
    "## Save the output file (Random Forest)"
   ]
  },
  {
   "cell_type": "code",
   "execution_count": 99,
   "id": "0c8d5791",
   "metadata": {},
   "outputs": [],
   "source": [
    "y_test_pred = best_rf.predict(test)\n",
    "passenger_ids = test['PassengerId']\n",
    "\n",
    "result_df = pd.DataFrame({\n",
    "    'PassengerId': passenger_ids,\n",
    "    'Transported': y_test_pred\n",
    "})\n",
    "\n",
    "result_df.to_csv('output_RandomForest_GridSearchCV.csv', index=False)"
   ]
  },
  {
   "cell_type": "code",
   "execution_count": 29,
   "id": "becfb03d",
   "metadata": {},
   "outputs": [
    {
     "data": {
      "image/png": "[encoded data removed]",
      "text/plain": [
       "<Figure size 432x288 with 1 Axes>"
      ]
     },
     "metadata": {},
     "output_type": "display_data"
    }
   ],
   "source": [
    "N = train['Transported'].sum()\n",
    "tr_uni = train['HomePlanet'].unique()\n",
    "tr_uni = pd.fillna('nan')\n",
    "# tr_uni = tr_uni[pd.notna(tr_uni)]\n",
    "tr_div = []\n",
    "tr_div_per = []\n",
    "for label in tr_uni:\n",
    "    uni = train[train['HomePlanet'].fillna('nan')==label]\n",
    "    tr_div.append(uni)\n",
    "    tr_div_per.append((uni['Transported'].sum()/N)*100)\n",
    "print(tr_uni)\n",
    "print(tr_div_per)\n",
    "\n",
    "# pizza = plt.pie(tr_div_per,labels=tr_uni)\n",
    "pie_wedges, texts, autotexts = plt.pie(\n",
    "    tr_div_per,\n",
    "    labels = tr_uni,\n",
    "    autopct='%1.1f%%',\n",
    "    startangle = 140,\n",
    "    colors = plt.cm.tab20.colors\n",
    ")\n",
    "\n",
    "leg = plt.legend(\n",
    "    pie_wedges,\n",
    "    tr_uni,\n",
    "    title='HomePlanet',  # Title of the legend\n",
    "    loc='upper right'\n",
    ")\n",
    "\n",
    "plt.title('Home Planet of the people who disappeared',bbox=dict(facecolor='white', edgecolor='black'))\n"
   ]
  },
  {
   "cell_type": "code",
   "execution_count": 19,
   "id": "4ce0dd6e",
   "metadata": {},
   "outputs": [
    {
     "name": "stdout",
     "output_type": "stream",
     "text": [
      "0.5036236051995858\n",
      "100.00000000000001\n"
     ]
    },
    {
     "data": {
      "image/png": "[encoded data removed]",
      "text/plain": [
       "<Figure size 432x288 with 1 Axes>"
      ]
     },
     "metadata": {},
     "output_type": "display_data"
    }
   ],
   "source": [
    "N = train['Transported'].sum()\n",
    "tr_uni = train['Transported_relatives_count'].fillna('nan').unique()\n",
    "# tr_uni = tr_uni[pd.notna(tr_uni)]\n",
    "tr_div = []\n",
    "tr_div_per = []\n",
    "for label in tr_uni:\n",
    "    uni = train[train['Transported_relatives_count'].fillna('nan')==label]\n",
    "    tr_div.append(uni)\n",
    "    tr_div_per.append(((uni['Transported'].sum()/N)*100))\n",
    "\n",
    "\n",
    "# pizza = plt.pie(tr_div_per,labels=tr_uni)\n",
    "pie_wedges, texts, autotexts = plt.pie(\n",
    "    tr_div_per,\n",
    "    labels = tr_uni,\n",
    "    autopct='%1.1f%%',\n",
    "    colors = plt.cm.tab20.colors\n",
    ")\n",
    "\n",
    "print(train['Transported'].sum()/len(train))\n",
    "print(sum(tr_div_per))\n",
    "\n",
    "title = plt.title('Disappeared people numbers group divided by total people with this number',bbox=dict(facecolor='white', edgecolor='black'))\n"
   ]
  },
  {
   "cell_type": "code",
   "execution_count": null,
   "id": "14af492d",
   "metadata": {},
   "outputs": [],
   "source": []
  }
 ],
 "metadata": {
  "kernelspec": {
   "display_name": "Python 3 (ipykernel)",
   "language": "python",
   "name": "python3"
  },
  "language_info": {
   "codemirror_mode": {
    "name": "ipython",
    "version": 3
   },
   "file_extension": ".py",
   "mimetype": "text/x-python",
   "name": "python",
   "nbconvert_exporter": "python",
   "pygments_lexer": "ipython3",
   "version": "3.9.12"
  }
 },
 "nbformat": 4,
 "nbformat_minor": 5
}
